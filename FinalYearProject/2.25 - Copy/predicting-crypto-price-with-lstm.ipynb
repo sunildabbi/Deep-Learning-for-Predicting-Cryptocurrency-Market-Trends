{
 "cells": [
  {
   "cell_type": "code",
   "execution_count": 1,
   "id": "62cc47fc",
   "metadata": {
    "_cell_guid": "b1076dfc-b9ad-4769-8c92-a6c4dae69d19",
    "_uuid": "8f2839f25d086af736a60e9eeb907d3b93b6e0e5",
    "execution": {
     "iopub.execute_input": "2021-08-19T20:48:22.123081Z",
     "iopub.status.busy": "2021-08-19T20:48:22.122323Z",
     "iopub.status.idle": "2021-08-19T20:48:22.165891Z",
     "shell.execute_reply": "2021-08-19T20:48:22.164580Z",
     "shell.execute_reply.started": "2021-08-19T20:35:19.096137Z"
    },
    "papermill": {
     "duration": 0.076698,
     "end_time": "2021-08-19T20:48:22.166191",
     "exception": false,
     "start_time": "2021-08-19T20:48:22.089493",
     "status": "completed"
    },
    "tags": []
   },
   "outputs": [],
   "source": [
    "\n",
    "import numpy as np # linear algebra\n",
    "import pandas as pd # data processing, CSV file I/O (e.g. pd.read_csv)\n",
    "import os"
   ]
  },
  {
   "cell_type": "code",
   "execution_count": 2,
   "id": "decf551f",
   "metadata": {
    "execution": {
     "iopub.execute_input": "2021-08-19T20:48:22.274459Z",
     "iopub.status.busy": "2021-08-19T20:48:22.273751Z",
     "iopub.status.idle": "2021-08-19T20:48:22.388908Z",
     "shell.execute_reply": "2021-08-19T20:48:22.388229Z",
     "shell.execute_reply.started": "2021-08-19T20:35:19.114247Z"
    },
    "papermill": {
     "duration": 0.140044,
     "end_time": "2021-08-19T20:48:22.389122",
     "exception": false,
     "start_time": "2021-08-19T20:48:22.249078",
     "status": "completed"
    },
    "tags": []
   },
   "outputs": [],
   "source": [
    "import matplotlib.pyplot as plt\n",
    "\n",
    "data = 'coin_Bitcoin.csv'\n",
    "dataset = pd.read_csv(data)\n",
    "chosen_col = 'Close'"
   ]
  },
  {
   "cell_type": "code",
   "execution_count": 3,
   "id": "ee59a4c5",
   "metadata": {
    "execution": {
     "iopub.execute_input": "2021-08-19T20:48:22.480159Z",
     "iopub.status.busy": "2021-08-19T20:48:22.479349Z",
     "iopub.status.idle": "2021-08-19T20:48:22.503203Z",
     "shell.execute_reply": "2021-08-19T20:48:22.503810Z",
     "shell.execute_reply.started": "2021-08-19T20:35:19.143667Z"
    },
    "papermill": {
     "duration": 0.056376,
     "end_time": "2021-08-19T20:48:22.504056",
     "exception": false,
     "start_time": "2021-08-19T20:48:22.447680",
     "status": "completed"
    },
    "tags": []
   },
   "outputs": [
    {
     "name": "stdout",
     "output_type": "stream",
     "text": [
      "2991\n"
     ]
    },
    {
     "data": {
      "text/html": [
       "<div>\n",
       "<style scoped>\n",
       "    .dataframe tbody tr th:only-of-type {\n",
       "        vertical-align: middle;\n",
       "    }\n",
       "\n",
       "    .dataframe tbody tr th {\n",
       "        vertical-align: top;\n",
       "    }\n",
       "\n",
       "    .dataframe thead th {\n",
       "        text-align: right;\n",
       "    }\n",
       "</style>\n",
       "<table border=\"1\" class=\"dataframe\">\n",
       "  <thead>\n",
       "    <tr style=\"text-align: right;\">\n",
       "      <th></th>\n",
       "      <th>SNo</th>\n",
       "      <th>Name</th>\n",
       "      <th>Symbol</th>\n",
       "      <th>Date</th>\n",
       "      <th>High</th>\n",
       "      <th>Low</th>\n",
       "      <th>Open</th>\n",
       "      <th>Close</th>\n",
       "      <th>Volume</th>\n",
       "      <th>Marketcap</th>\n",
       "    </tr>\n",
       "  </thead>\n",
       "  <tbody>\n",
       "    <tr>\n",
       "      <th>0</th>\n",
       "      <td>1</td>\n",
       "      <td>Bitcoin</td>\n",
       "      <td>BTC</td>\n",
       "      <td>2013-04-29 23:59:59</td>\n",
       "      <td>147.488007</td>\n",
       "      <td>134.000000</td>\n",
       "      <td>134.444000</td>\n",
       "      <td>144.539993</td>\n",
       "      <td>0.0</td>\n",
       "      <td>1.603769e+09</td>\n",
       "    </tr>\n",
       "    <tr>\n",
       "      <th>1</th>\n",
       "      <td>2</td>\n",
       "      <td>Bitcoin</td>\n",
       "      <td>BTC</td>\n",
       "      <td>2013-04-30 23:59:59</td>\n",
       "      <td>146.929993</td>\n",
       "      <td>134.050003</td>\n",
       "      <td>144.000000</td>\n",
       "      <td>139.000000</td>\n",
       "      <td>0.0</td>\n",
       "      <td>1.542813e+09</td>\n",
       "    </tr>\n",
       "    <tr>\n",
       "      <th>2</th>\n",
       "      <td>3</td>\n",
       "      <td>Bitcoin</td>\n",
       "      <td>BTC</td>\n",
       "      <td>2013-05-01 23:59:59</td>\n",
       "      <td>139.889999</td>\n",
       "      <td>107.720001</td>\n",
       "      <td>139.000000</td>\n",
       "      <td>116.989998</td>\n",
       "      <td>0.0</td>\n",
       "      <td>1.298955e+09</td>\n",
       "    </tr>\n",
       "    <tr>\n",
       "      <th>3</th>\n",
       "      <td>4</td>\n",
       "      <td>Bitcoin</td>\n",
       "      <td>BTC</td>\n",
       "      <td>2013-05-02 23:59:59</td>\n",
       "      <td>125.599998</td>\n",
       "      <td>92.281898</td>\n",
       "      <td>116.379997</td>\n",
       "      <td>105.209999</td>\n",
       "      <td>0.0</td>\n",
       "      <td>1.168517e+09</td>\n",
       "    </tr>\n",
       "    <tr>\n",
       "      <th>4</th>\n",
       "      <td>5</td>\n",
       "      <td>Bitcoin</td>\n",
       "      <td>BTC</td>\n",
       "      <td>2013-05-03 23:59:59</td>\n",
       "      <td>108.127998</td>\n",
       "      <td>79.099998</td>\n",
       "      <td>106.250000</td>\n",
       "      <td>97.750000</td>\n",
       "      <td>0.0</td>\n",
       "      <td>1.085995e+09</td>\n",
       "    </tr>\n",
       "  </tbody>\n",
       "</table>\n",
       "</div>"
      ],
      "text/plain": [
       "   SNo     Name Symbol                 Date        High         Low   \n",
       "0    1  Bitcoin    BTC  2013-04-29 23:59:59  147.488007  134.000000  \\\n",
       "1    2  Bitcoin    BTC  2013-04-30 23:59:59  146.929993  134.050003   \n",
       "2    3  Bitcoin    BTC  2013-05-01 23:59:59  139.889999  107.720001   \n",
       "3    4  Bitcoin    BTC  2013-05-02 23:59:59  125.599998   92.281898   \n",
       "4    5  Bitcoin    BTC  2013-05-03 23:59:59  108.127998   79.099998   \n",
       "\n",
       "         Open       Close  Volume     Marketcap  \n",
       "0  134.444000  144.539993     0.0  1.603769e+09  \n",
       "1  144.000000  139.000000     0.0  1.542813e+09  \n",
       "2  139.000000  116.989998     0.0  1.298955e+09  \n",
       "3  116.379997  105.209999     0.0  1.168517e+09  \n",
       "4  106.250000   97.750000     0.0  1.085995e+09  "
      ]
     },
     "execution_count": 3,
     "metadata": {},
     "output_type": "execute_result"
    }
   ],
   "source": [
    "print(len(dataset))\n",
    "dataset.head()"
   ]
  },
  {
   "cell_type": "markdown",
   "id": "2af6de93",
   "metadata": {
    "papermill": {
     "duration": 0.020271,
     "end_time": "2021-08-19T20:48:22.545465",
     "exception": false,
     "start_time": "2021-08-19T20:48:22.525194",
     "status": "completed"
    },
    "tags": []
   },
   "source": [
    "Splitting our data into what will be our training set VS the test set so we can visualize it."
   ]
  },
  {
   "cell_type": "code",
   "execution_count": 4,
   "id": "97b360aa",
   "metadata": {
    "execution": {
     "iopub.execute_input": "2021-08-19T20:48:22.597106Z",
     "iopub.status.busy": "2021-08-19T20:48:22.595959Z",
     "iopub.status.idle": "2021-08-19T20:48:22.600925Z",
     "shell.execute_reply": "2021-08-19T20:48:22.599887Z",
     "shell.execute_reply.started": "2021-08-19T20:35:19.167903Z"
    },
    "papermill": {
     "duration": 0.034795,
     "end_time": "2021-08-19T20:48:22.601147",
     "exception": false,
     "start_time": "2021-08-19T20:48:22.566352",
     "status": "completed"
    },
    "tags": []
   },
   "outputs": [],
   "source": [
    "split_row = len(dataset) - int(0.2 * len(dataset))\n",
    "train_data = dataset.iloc[:split_row]\n",
    "test_data = dataset.iloc[split_row:]"
   ]
  },
  {
   "cell_type": "code",
   "execution_count": 5,
   "id": "8b9c79a1",
   "metadata": {
    "execution": {
     "iopub.execute_input": "2021-08-19T20:48:22.670373Z",
     "iopub.status.busy": "2021-08-19T20:48:22.669552Z",
     "iopub.status.idle": "2021-08-19T20:48:22.940931Z",
     "shell.execute_reply": "2021-08-19T20:48:22.940244Z",
     "shell.execute_reply.started": "2021-08-19T20:35:19.174232Z"
    },
    "papermill": {
     "duration": 0.319622,
     "end_time": "2021-08-19T20:48:22.941108",
     "exception": false,
     "start_time": "2021-08-19T20:48:22.621486",
     "status": "completed"
    },
    "tags": []
   },
   "outputs": [
    {
     "data": {
      "text/plain": [
       "<matplotlib.legend.Legend at 0x1b6621715d0>"
      ]
     },
     "execution_count": 5,
     "metadata": {},
     "output_type": "execute_result"
    },
    {
     "data": {
      "image/png": "[encoded data removed]",
      "text/plain": [
       "<Figure size 1300x700 with 1 Axes>"
      ]
     },
     "metadata": {},
     "output_type": "display_data"
    }
   ],
   "source": [
    "fig, ax = plt.subplots(1, figsize=(13, 7))\n",
    "ax.plot(train_data[chosen_col], label='Train', linewidth=2)\n",
    "ax.plot(test_data[chosen_col], label='Test', linewidth=2)\n",
    "ax.set_ylabel('Price USD', fontsize=14)\n",
    "ax.set_title('', fontsize=16)\n",
    "ax.legend(loc='best', fontsize=16)"
   ]
  },
  {
   "cell_type": "code",
   "execution_count": 6,
   "id": "2d07a83e",
   "metadata": {
    "execution": {
     "iopub.execute_input": "2021-08-19T20:48:23.040925Z",
     "iopub.status.busy": "2021-08-19T20:48:23.040170Z",
     "iopub.status.idle": "2021-08-19T20:48:23.871628Z",
     "shell.execute_reply": "2021-08-19T20:48:23.871024Z",
     "shell.execute_reply.started": "2021-08-19T20:35:19.404352Z"
    },
    "papermill": {
     "duration": 0.861776,
     "end_time": "2021-08-19T20:48:23.871809",
     "exception": false,
     "start_time": "2021-08-19T20:48:23.010033",
     "status": "completed"
    },
    "tags": []
   },
   "outputs": [],
   "source": [
    "from sklearn.preprocessing import MinMaxScaler\n",
    "\n",
    "datacol = dataset.iloc[:, 7:8].values\n",
    "traincol = train_data.iloc[:, 7:8].values\n",
    "testcol = test_data.iloc[:, 7:8].values\n",
    "\n",
    "shaped_data = np.reshape(datacol, (-1,1))\n",
    "train_shaped = np.reshape(traincol, (-1,1))\n",
    "test_shaped = np.reshape(testcol, (-1,1))\n",
    "\n",
    "sc = MinMaxScaler(feature_range=(0,1))\n",
    "sc.fit(shaped_data)\n",
    "\n",
    "train_scaled_data = sc.transform(train_shaped)\n",
    "test_scaled_data = sc.transform(test_shaped)"
   ]
  },
  {
   "cell_type": "markdown",
   "id": "ca128e27",
   "metadata": {
    "papermill": {
     "duration": 0.021304,
     "end_time": "2021-08-19T20:48:23.914431",
     "exception": false,
     "start_time": "2021-08-19T20:48:23.893127",
     "status": "completed"
    },
    "tags": []
   },
   "source": [
    "Now we seperate our training data into our inputs and our outputs in time steps of time_steps. Where we will look at time_steps amount of data before we make our prediction of what the output for y will be."
   ]
  },
  {
   "cell_type": "code",
   "execution_count": 7,
   "id": "413c912d",
   "metadata": {
    "execution": {
     "iopub.execute_input": "2021-08-19T20:48:23.969420Z",
     "iopub.status.busy": "2021-08-19T20:48:23.967845Z",
     "iopub.status.idle": "2021-08-19T20:48:23.977620Z",
     "shell.execute_reply": "2021-08-19T20:48:23.976908Z",
     "shell.execute_reply.started": "2021-08-19T20:35:19.416782Z"
    },
    "papermill": {
     "duration": 0.040729,
     "end_time": "2021-08-19T20:48:23.977777",
     "exception": false,
     "start_time": "2021-08-19T20:48:23.937048",
     "status": "completed"
    },
    "tags": []
   },
   "outputs": [],
   "source": [
    "X = []\n",
    "y = []\n",
    "time_steps = 50\n",
    "\n",
    "for i in range(time_steps, len(train_data)):\n",
    "    X.append(train_scaled_data[i-time_steps:i,0])\n",
    "    y.append(train_scaled_data[i, 0])\n",
    "\n",
    "X, y = np.array(X), np.array(y)\n",
    "X = np.reshape(X, (X.shape[0], X.shape[1], 1))"
   ]
  },
  {
   "cell_type": "markdown",
   "id": "39ca4b89",
   "metadata": {
    "papermill": {
     "duration": 0.019712,
     "end_time": "2021-08-19T20:48:24.018195",
     "exception": false,
     "start_time": "2021-08-19T20:48:23.998483",
     "status": "completed"
    },
    "tags": []
   },
   "source": [
    "Splitting our training data into training and validation."
   ]
  },
  {
   "cell_type": "code",
   "execution_count": 8,
   "id": "e31bfcd2",
   "metadata": {
    "execution": {
     "iopub.execute_input": "2021-08-19T20:48:24.061744Z",
     "iopub.status.busy": "2021-08-19T20:48:24.061089Z",
     "iopub.status.idle": "2021-08-19T20:48:24.119120Z",
     "shell.execute_reply": "2021-08-19T20:48:24.118468Z",
     "shell.execute_reply.started": "2021-08-19T20:35:19.437234Z"
    },
    "papermill": {
     "duration": 0.081121,
     "end_time": "2021-08-19T20:48:24.119258",
     "exception": false,
     "start_time": "2021-08-19T20:48:24.038137",
     "status": "completed"
    },
    "tags": []
   },
   "outputs": [],
   "source": [
    "from sklearn.model_selection import train_test_split\n",
    "\n",
    "X_train, X_test, y_train, y_test = train_test_split(X, y, test_size=0.2)"
   ]
  },
  {
   "cell_type": "markdown",
   "id": "2ed200f4",
   "metadata": {
    "papermill": {
     "duration": 0.023816,
     "end_time": "2021-08-19T20:48:24.164782",
     "exception": false,
     "start_time": "2021-08-19T20:48:24.140966",
     "status": "completed"
    },
    "tags": []
   },
   "source": [
    "Now we implement our actual model. We start with an LSTM input layer with 100 hidden units. We add a dropout of 0.2 before our Dense output layer with a linear activation and a shape of 1 (as we are outputting our expected price). We are using mean squared error to calculate our loss and adam as our optimizer."
   ]
  },
  {
   "cell_type": "code",
   "execution_count": 9,
   "id": "6fe56720",
   "metadata": {
    "execution": {
     "iopub.execute_input": "2021-08-19T20:48:24.231173Z",
     "iopub.status.busy": "2021-08-19T20:48:24.230204Z",
     "iopub.status.idle": "2021-08-19T20:48:30.125924Z",
     "shell.execute_reply": "2021-08-19T20:48:30.126402Z",
     "shell.execute_reply.started": "2021-08-19T20:35:19.465636Z"
    },
    "papermill": {
     "duration": 5.932731,
     "end_time": "2021-08-19T20:48:30.126582",
     "exception": false,
     "start_time": "2021-08-19T20:48:24.193851",
     "status": "completed"
    },
    "tags": []
   },
   "outputs": [],
   "source": [
    "from keras.models import Sequential\n",
    "from keras.layers import LSTM\n",
    "from keras.layers import Dense\n",
    "from keras.layers import Dropout\n",
    "from keras.layers import Activation\n",
    "\n",
    "model = Sequential()\n",
    "model.add(LSTM(units=100, input_shape=(X_train.shape[1], X_train.shape[2])))\n",
    "model.add(Dropout(0.2))\n",
    "model.add(Dense(1))\n",
    "model.add(Activation('linear'))\n",
    "model.compile(optimizer='adam', loss='mse')"
   ]
  },
  {
   "cell_type": "markdown",
   "id": "7e0e7c48",
   "metadata": {
    "papermill": {
     "duration": 0.019575,
     "end_time": "2021-08-19T20:48:30.166074",
     "exception": false,
     "start_time": "2021-08-19T20:48:30.146499",
     "status": "completed"
    },
    "tags": []
   },
   "source": [
    "Fit our model now on our X and y training/validation data. We take advantage of keras' early stopping class so that once we are no longer recieving improvements the model will take its best weights and stop."
   ]
  },
  {
   "cell_type": "code",
   "execution_count": 10,
   "id": "295f5e12",
   "metadata": {
    "execution": {
     "iopub.execute_input": "2021-08-19T20:48:30.209475Z",
     "iopub.status.busy": "2021-08-19T20:48:30.208571Z",
     "iopub.status.idle": "2021-08-19T20:51:54.316801Z",
     "shell.execute_reply": "2021-08-19T20:51:54.316004Z",
     "shell.execute_reply.started": "2021-08-19T20:35:19.752419Z"
    },
    "papermill": {
     "duration": 204.130964,
     "end_time": "2021-08-19T20:51:54.316972",
     "exception": false,
     "start_time": "2021-08-19T20:48:30.186008",
     "status": "completed"
    },
    "tags": []
   },
   "outputs": [
    {
     "name": "stdout",
     "output_type": "stream",
     "text": [
      "Epoch 1/100\n",
      "59/59 [==============================] - 5s 61ms/step - loss: 0.0017 - val_loss: 1.1642e-04\n",
      "Epoch 2/100\n",
      "59/59 [==============================] - 3s 46ms/step - loss: 1.0444e-04 - val_loss: 1.0619e-04\n",
      "Epoch 3/100\n",
      "59/59 [==============================] - 3s 49ms/step - loss: 7.6278e-05 - val_loss: 8.4401e-05\n",
      "Epoch 4/100\n",
      "59/59 [==============================] - 3s 46ms/step - loss: 9.0639e-05 - val_loss: 7.4691e-05\n",
      "Epoch 5/100\n",
      "59/59 [==============================] - 3s 47ms/step - loss: 6.9107e-05 - val_loss: 8.0452e-05\n",
      "Epoch 6/100\n",
      "59/59 [==============================] - 3s 46ms/step - loss: 6.1242e-05 - val_loss: 7.1370e-05\n",
      "Epoch 7/100\n",
      "59/59 [==============================] - 3s 46ms/step - loss: 6.5279e-05 - val_loss: 8.0972e-05\n",
      "Epoch 8/100\n",
      "59/59 [==============================] - 3s 46ms/step - loss: 6.0663e-05 - val_loss: 6.6307e-05\n",
      "Epoch 9/100\n",
      "59/59 [==============================] - 3s 47ms/step - loss: 5.9905e-05 - val_loss: 6.4741e-05\n",
      "Epoch 10/100\n",
      "59/59 [==============================] - 3s 47ms/step - loss: 5.9893e-05 - val_loss: 6.1099e-05\n",
      "Epoch 11/100\n",
      "59/59 [==============================] - 3s 47ms/step - loss: 5.0700e-05 - val_loss: 6.8280e-05\n",
      "Epoch 12/100\n",
      "59/59 [==============================] - 3s 47ms/step - loss: 7.5375e-05 - val_loss: 6.1018e-05\n",
      "Epoch 13/100\n",
      "59/59 [==============================] - 3s 47ms/step - loss: 5.1043e-05 - val_loss: 5.3722e-05\n",
      "Epoch 14/100\n",
      "59/59 [==============================] - 3s 47ms/step - loss: 5.7800e-05 - val_loss: 5.3289e-05\n",
      "Epoch 15/100\n",
      "59/59 [==============================] - 3s 49ms/step - loss: 5.5794e-05 - val_loss: 7.0183e-05\n",
      "Epoch 16/100\n",
      "59/59 [==============================] - 3s 46ms/step - loss: 5.4316e-05 - val_loss: 5.3702e-05\n",
      "Epoch 17/100\n",
      "59/59 [==============================] - 3s 48ms/step - loss: 5.0872e-05 - val_loss: 5.5413e-05\n",
      "Epoch 18/100\n",
      "59/59 [==============================] - 3s 47ms/step - loss: 4.7803e-05 - val_loss: 5.6731e-05\n",
      "Epoch 19/100\n",
      "59/59 [==============================] - 3s 46ms/step - loss: 5.0007e-05 - val_loss: 6.4053e-05\n",
      "Epoch 20/100\n",
      "59/59 [==============================] - 3s 47ms/step - loss: 3.9687e-05 - val_loss: 5.2932e-05\n",
      "Epoch 21/100\n",
      "59/59 [==============================] - 3s 48ms/step - loss: 4.4428e-05 - val_loss: 5.8903e-05\n",
      "Epoch 22/100\n",
      "59/59 [==============================] - 3s 47ms/step - loss: 4.3436e-05 - val_loss: 5.4383e-05\n",
      "Epoch 23/100\n",
      "59/59 [==============================] - 3s 48ms/step - loss: 3.9263e-05 - val_loss: 4.7378e-05\n",
      "Epoch 24/100\n",
      "59/59 [==============================] - 3s 46ms/step - loss: 4.4075e-05 - val_loss: 6.0341e-05\n",
      "Epoch 25/100\n",
      "59/59 [==============================] - 3s 47ms/step - loss: 3.5755e-05 - val_loss: 4.8216e-05\n",
      "Epoch 26/100\n",
      "59/59 [==============================] - 3s 48ms/step - loss: 3.9848e-05 - val_loss: 4.6160e-05\n",
      "Epoch 27/100\n",
      "59/59 [==============================] - 3s 51ms/step - loss: 3.6190e-05 - val_loss: 4.9591e-05\n",
      "Epoch 28/100\n",
      "59/59 [==============================] - 3s 49ms/step - loss: 3.7049e-05 - val_loss: 4.5846e-05\n",
      "Epoch 29/100\n",
      "59/59 [==============================] - 3s 49ms/step - loss: 3.8991e-05 - val_loss: 5.3232e-05\n",
      "Epoch 30/100\n",
      "59/59 [==============================] - 3s 48ms/step - loss: 4.0748e-05 - val_loss: 4.5505e-05\n",
      "Epoch 31/100\n",
      "59/59 [==============================] - 3s 46ms/step - loss: 3.7959e-05 - val_loss: 4.6968e-05\n",
      "Epoch 32/100\n",
      "59/59 [==============================] - 3s 47ms/step - loss: 4.0368e-05 - val_loss: 4.4258e-05\n",
      "Epoch 33/100\n",
      "59/59 [==============================] - 3s 47ms/step - loss: 4.3883e-05 - val_loss: 4.5662e-05\n",
      "Epoch 34/100\n",
      "59/59 [==============================] - 3s 46ms/step - loss: 3.7704e-05 - val_loss: 4.5427e-05\n",
      "Epoch 35/100\n",
      "59/59 [==============================] - 3s 47ms/step - loss: 3.7720e-05 - val_loss: 4.4940e-05\n",
      "Epoch 36/100\n",
      "59/59 [==============================] - 3s 46ms/step - loss: 3.7068e-05 - val_loss: 4.2937e-05\n",
      "Epoch 37/100\n",
      "59/59 [==============================] - 3s 48ms/step - loss: 4.4004e-05 - val_loss: 4.7082e-05\n",
      "Epoch 38/100\n",
      "59/59 [==============================] - 3s 50ms/step - loss: 3.8044e-05 - val_loss: 4.7873e-05\n",
      "Epoch 39/100\n",
      "59/59 [==============================] - 3s 47ms/step - loss: 4.5099e-05 - val_loss: 4.2924e-05\n",
      "Epoch 40/100\n",
      "59/59 [==============================] - 3s 47ms/step - loss: 3.4623e-05 - val_loss: 4.1818e-05\n",
      "Epoch 41/100\n",
      "59/59 [==============================] - 3s 48ms/step - loss: 3.6120e-05 - val_loss: 4.1821e-05\n",
      "Epoch 42/100\n",
      "59/59 [==============================] - 3s 47ms/step - loss: 3.5395e-05 - val_loss: 4.7248e-05\n",
      "Epoch 43/100\n",
      "59/59 [==============================] - 3s 48ms/step - loss: 3.9344e-05 - val_loss: 4.2851e-05\n",
      "Epoch 44/100\n",
      "59/59 [==============================] - 3s 47ms/step - loss: 3.0891e-05 - val_loss: 4.0271e-05\n",
      "Epoch 45/100\n",
      "59/59 [==============================] - 3s 48ms/step - loss: 3.5429e-05 - val_loss: 5.0142e-05\n",
      "Epoch 46/100\n",
      "59/59 [==============================] - 3s 47ms/step - loss: 3.7056e-05 - val_loss: 3.9156e-05\n",
      "Epoch 47/100\n",
      "59/59 [==============================] - 3s 47ms/step - loss: 2.7919e-05 - val_loss: 3.9812e-05\n",
      "Epoch 48/100\n",
      "59/59 [==============================] - 3s 47ms/step - loss: 3.1289e-05 - val_loss: 3.9773e-05\n",
      "Epoch 49/100\n",
      "59/59 [==============================] - 3s 47ms/step - loss: 3.2916e-05 - val_loss: 4.0561e-05\n",
      "Epoch 50/100\n",
      "59/59 [==============================] - 3s 51ms/step - loss: 3.6512e-05 - val_loss: 3.8094e-05\n",
      "Epoch 51/100\n",
      "59/59 [==============================] - 3s 47ms/step - loss: 3.3447e-05 - val_loss: 4.2022e-05\n",
      "Epoch 52/100\n",
      "59/59 [==============================] - 3s 47ms/step - loss: 3.8324e-05 - val_loss: 3.7651e-05\n",
      "Epoch 53/100\n",
      "59/59 [==============================] - 3s 48ms/step - loss: 3.2591e-05 - val_loss: 3.6027e-05\n",
      "Epoch 54/100\n",
      "59/59 [==============================] - 3s 49ms/step - loss: 3.2647e-05 - val_loss: 3.8008e-05\n",
      "Epoch 55/100\n",
      "59/59 [==============================] - 3s 46ms/step - loss: 3.2336e-05 - val_loss: 4.4038e-05\n",
      "Epoch 56/100\n",
      "59/59 [==============================] - 3s 47ms/step - loss: 3.4599e-05 - val_loss: 3.9762e-05\n",
      "Epoch 57/100\n",
      "59/59 [==============================] - 3s 47ms/step - loss: 4.0468e-05 - val_loss: 4.2933e-05\n",
      "Epoch 58/100\n",
      "59/59 [==============================] - 3s 49ms/step - loss: 3.2212e-05 - val_loss: 3.6768e-05\n",
      "Epoch 59/100\n",
      "59/59 [==============================] - 3s 49ms/step - loss: 3.1803e-05 - val_loss: 3.8817e-05\n",
      "Epoch 60/100\n",
      "59/59 [==============================] - 3s 49ms/step - loss: 2.7778e-05 - val_loss: 4.0224e-05\n",
      "Epoch 61/100\n",
      "59/59 [==============================] - 3s 48ms/step - loss: 3.4108e-05 - val_loss: 3.3685e-05\n",
      "Epoch 62/100\n",
      "59/59 [==============================] - 3s 51ms/step - loss: 2.7485e-05 - val_loss: 3.6174e-05\n",
      "Epoch 63/100\n",
      "59/59 [==============================] - 3s 47ms/step - loss: 3.1434e-05 - val_loss: 3.3527e-05\n",
      "Epoch 64/100\n",
      "59/59 [==============================] - 3s 48ms/step - loss: 3.5131e-05 - val_loss: 3.4707e-05\n",
      "Epoch 65/100\n",
      "59/59 [==============================] - 3s 48ms/step - loss: 3.6421e-05 - val_loss: 3.3885e-05\n",
      "Epoch 66/100\n",
      "59/59 [==============================] - 3s 47ms/step - loss: 2.8189e-05 - val_loss: 3.3721e-05\n",
      "Epoch 67/100\n",
      "59/59 [==============================] - 3s 47ms/step - loss: 3.9961e-05 - val_loss: 3.6400e-05\n",
      "Epoch 68/100\n",
      "59/59 [==============================] - 3s 48ms/step - loss: 2.6542e-05 - val_loss: 3.3557e-05\n",
      "Epoch 69/100\n",
      "59/59 [==============================] - 3s 48ms/step - loss: 3.0513e-05 - val_loss: 4.3270e-05\n",
      "Epoch 70/100\n",
      "59/59 [==============================] - 3s 46ms/step - loss: 4.2864e-05 - val_loss: 3.5296e-05\n",
      "Epoch 71/100\n",
      "59/59 [==============================] - 3s 47ms/step - loss: 2.8623e-05 - val_loss: 3.6654e-05\n",
      "Epoch 72/100\n",
      "59/59 [==============================] - 3s 48ms/step - loss: 2.9613e-05 - val_loss: 4.2673e-05\n"
     ]
    }
   ],
   "source": [
    "from keras.callbacks import EarlyStopping\n",
    "\n",
    "callback = EarlyStopping(monitor='loss', patience=10, restore_best_weights=True)\n",
    "history = model.fit(X_train, y_train, validation_data=(X_test, y_test), epochs=100, batch_size=32, verbose=1, callbacks=[callback], shuffle=True)"
   ]
  },
  {
   "cell_type": "code",
   "execution_count": 11,
   "id": "bb7a9f1a",
   "metadata": {
    "execution": {
     "iopub.execute_input": "2021-08-19T20:51:55.730261Z",
     "iopub.status.busy": "2021-08-19T20:51:55.729623Z",
     "iopub.status.idle": "2021-08-19T20:51:55.738374Z",
     "shell.execute_reply": "2021-08-19T20:51:55.737691Z",
     "shell.execute_reply.started": "2021-08-19T20:38:15.945626Z"
    },
    "papermill": {
     "duration": 0.717569,
     "end_time": "2021-08-19T20:51:55.738521",
     "exception": false,
     "start_time": "2021-08-19T20:51:55.020952",
     "status": "completed"
    },
    "tags": []
   },
   "outputs": [
    {
     "name": "stdout",
     "output_type": "stream",
     "text": [
      "Model: \"sequential\"\n",
      "_________________________________________________________________\n",
      "Layer (type)                 Output Shape              Param #   \n",
      "=================================================================\n",
      "lstm (LSTM)                  (None, 100)               40800     \n",
      "_________________________________________________________________\n",
      "dropout (Dropout)            (None, 100)               0         \n",
      "_________________________________________________________________\n",
      "dense (Dense)                (None, 1)                 101       \n",
      "_________________________________________________________________\n",
      "activation (Activation)      (None, 1)                 0         \n",
      "=================================================================\n",
      "Total params: 40,901\n",
      "Trainable params: 40,901\n",
      "Non-trainable params: 0\n",
      "_________________________________________________________________\n"
     ]
    }
   ],
   "source": [
    "model.summary()"
   ]
  },
  {
   "cell_type": "markdown",
   "id": "1433a756",
   "metadata": {
    "papermill": {
     "duration": 0.800039,
     "end_time": "2021-08-19T20:51:57.241085",
     "exception": false,
     "start_time": "2021-08-19T20:51:56.441046",
     "status": "completed"
    },
    "tags": []
   },
   "source": [
    "Now we are breaking our testing data up into time steps and splitting it again into our inputs and our expected outputs. \n",
    "\n",
    "We then predict on the inputs and then scale both the inputs and outputs back up, now were ready to see how we did!"
   ]
  },
  {
   "cell_type": "code",
   "execution_count": 12,
   "id": "91c25819",
   "metadata": {
    "execution": {
     "iopub.execute_input": "2021-08-19T20:51:58.711562Z",
     "iopub.status.busy": "2021-08-19T20:51:58.710907Z",
     "iopub.status.idle": "2021-08-19T20:51:59.393549Z",
     "shell.execute_reply": "2021-08-19T20:51:59.394121Z",
     "shell.execute_reply.started": "2021-08-19T20:38:15.954926Z"
    },
    "papermill": {
     "duration": 1.414536,
     "end_time": "2021-08-19T20:51:59.394379",
     "exception": false,
     "start_time": "2021-08-19T20:51:57.979843",
     "status": "completed"
    },
    "tags": []
   },
   "outputs": [],
   "source": [
    "from keras.metrics import mean_absolute_error\n",
    "\n",
    "X_testing = []\n",
    "y_testing = []\n",
    "\n",
    "for i in range(time_steps, len(test_data)):\n",
    "    X_testing.append(test_scaled_data[i-time_steps:i,0])\n",
    "    y_testing.append(test_scaled_data[i, 0])\n",
    "\n",
    "X_testing, y_testing = np.array(X_testing), np.array(y_testing)\n",
    "X_testing = np.reshape(X_testing, (X_testing.shape[0], X_testing.shape[1], 1))\n",
    "\n",
    "predicted_price = model.predict(X_testing)\n",
    "inv_price = sc.inverse_transform(predicted_price)\n",
    "real_price = np.reshape(y_testing, (-1,1))\n",
    "real_price = sc.inverse_transform(real_price)"
   ]
  },
  {
   "cell_type": "markdown",
   "id": "920b4981",
   "metadata": {
    "papermill": {
     "duration": 0.719194,
     "end_time": "2021-08-19T20:52:00.819918",
     "exception": false,
     "start_time": "2021-08-19T20:52:00.100724",
     "status": "completed"
    },
    "tags": []
   },
   "source": []
  },
  {
   "cell_type": "code",
   "execution_count": 13,
   "id": "adffc0e7",
   "metadata": {
    "execution": {
     "iopub.execute_input": "2021-08-19T20:52:02.223151Z",
     "iopub.status.busy": "2021-08-19T20:52:02.222233Z",
     "iopub.status.idle": "2021-08-19T20:52:02.428898Z",
     "shell.execute_reply": "2021-08-19T20:52:02.428400Z",
     "shell.execute_reply.started": "2021-08-19T20:38:16.493469Z"
    },
    "papermill": {
     "duration": 0.911389,
     "end_time": "2021-08-19T20:52:02.429040",
     "exception": false,
     "start_time": "2021-08-19T20:52:01.517651",
     "status": "completed"
    },
    "tags": []
   },
   "outputs": [
    {
     "data": {
      "text/plain": [
       "<matplotlib.legend.Legend at 0x7f017458bed0>"
      ]
     },
     "execution_count": 13,
     "metadata": {},
     "output_type": "execute_result"
    },
    {
     "data": {
      "image/png": "[encoded data removed]",
      "text/plain": [
       "<Figure size 936x504 with 1 Axes>"
      ]
     },
     "metadata": {
      "needs_background": "light"
     },
     "output_type": "display_data"
    }
   ],
   "source": [
    "fig, ax = plt.subplots(1, figsize=(13, 7))\n",
    "ax.plot(real_price, label='Real', linewidth=2)\n",
    "ax.plot(inv_price, label='Pred', linewidth=2)\n",
    "ax.set_ylabel('Price USD', fontsize=14)\n",
    "ax.set_title('', fontsize=16)\n",
    "ax.legend(loc='best', fontsize=16)"
   ]
  }
 ],
 "metadata": {
  "kernelspec": {
   "display_name": "Python 3",
   "language": "python",
   "name": "python3"
  },
  "language_info": {
   "codemirror_mode": {
    "name": "ipython",
    "version": 3
   },
   "file_extension": ".py",
   "mimetype": "text/x-python",
   "name": "python",
   "nbconvert_exporter": "python",
   "pygments_lexer": "ipython3",
   "version": "3.11.4"
  },
  "papermill": {
   "default_parameters": {},
   "duration": 232.921293,
   "end_time": "2021-08-19T20:52:06.949015",
   "environment_variables": {},
   "exception": null,
   "input_path": "__notebook__.ipynb",
   "output_path": "__notebook__.ipynb",
   "parameters": {},
   "start_time": "2021-08-19T20:48:14.027722",
   "version": "2.3.3"
  }
 },
 "nbformat": 4,
 "nbformat_minor": 5
}
